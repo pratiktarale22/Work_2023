{
  "nbformat": 4,
  "nbformat_minor": 0,
  "metadata": {
    "colab": {
      "provenance": []
    },
    "kernelspec": {
      "name": "python3",
      "display_name": "Python 3"
    },
    "language_info": {
      "name": "python"
    }
  },
  "cells": [
    {
      "cell_type": "code",
      "execution_count": null,
      "metadata": {
        "colab": {
          "base_uri": "https://localhost:8080/"
        },
        "id": "-UkdgHmSamgp",
        "outputId": "4a2579b2-dfe5-4af4-cce2-d61bbec5ed08"
      },
      "outputs": [
        {
          "output_type": "execute_result",
          "data": {
            "text/plain": [
              "15"
            ]
          },
          "metadata": {},
          "execution_count": 1
        }
      ],
      "source": [
        "7+8"
      ]
    },
    {
      "cell_type": "code",
      "source": [
        "5*5"
      ],
      "metadata": {
        "colab": {
          "base_uri": "https://localhost:8080/"
        },
        "id": "sn_dNzhGaoq8",
        "outputId": "eb4c592c-f36f-4c25-ef4f-53ed70247954"
      },
      "execution_count": null,
      "outputs": [
        {
          "output_type": "execute_result",
          "data": {
            "text/plain": [
              "25"
            ]
          },
          "metadata": {},
          "execution_count": 2
        }
      ]
    },
    {
      "cell_type": "code",
      "source": [
        "print (\"Welcome to IV\")"
      ],
      "metadata": {
        "colab": {
          "base_uri": "https://localhost:8080/"
        },
        "id": "rgo5jx62bpmt",
        "outputId": "6e83328d-2948-4629-9bf1-a10133abf830"
      },
      "execution_count": null,
      "outputs": [
        {
          "output_type": "stream",
          "name": "stdout",
          "text": [
            "Welcome to IV\n"
          ]
        }
      ]
    },
    {
      "cell_type": "code",
      "source": [
        "260/12*4-3"
      ],
      "metadata": {
        "colab": {
          "base_uri": "https://localhost:8080/"
        },
        "id": "PyErGmhodFkY",
        "outputId": "e5ef7d0c-e01b-4765-cd3b-65c2272c8758"
      },
      "execution_count": null,
      "outputs": [
        {
          "output_type": "execute_result",
          "data": {
            "text/plain": [
              "83.66666666666667"
            ]
          },
          "metadata": {},
          "execution_count": 4
        }
      ]
    },
    {
      "cell_type": "code",
      "source": [
        "(6-10)*4"
      ],
      "metadata": {
        "colab": {
          "base_uri": "https://localhost:8080/"
        },
        "id": "egjuXUlpdYLv",
        "outputId": "9c670791-e142-4118-9157-4ff50605043c"
      },
      "execution_count": null,
      "outputs": [
        {
          "output_type": "execute_result",
          "data": {
            "text/plain": [
              "-16"
            ]
          },
          "metadata": {},
          "execution_count": 5
        }
      ]
    },
    {
      "cell_type": "code",
      "source": [
        "marks=80\n",
        "marks"
      ],
      "metadata": {
        "colab": {
          "base_uri": "https://localhost:8080/"
        },
        "id": "x7geuqALdfP0",
        "outputId": "c1877fdb-c2a2-47e1-87a5-e0bc2cd376eb"
      },
      "execution_count": null,
      "outputs": [
        {
          "output_type": "execute_result",
          "data": {
            "text/plain": [
              "80"
            ]
          },
          "metadata": {},
          "execution_count": 9
        }
      ]
    },
    {
      "cell_type": "code",
      "source": [
        "type(marks)"
      ],
      "metadata": {
        "colab": {
          "base_uri": "https://localhost:8080/"
        },
        "id": "zAgkqB_zefjX",
        "outputId": "cb862a67-c184-4e3e-c95a-e0207a92df04"
      },
      "execution_count": null,
      "outputs": [
        {
          "output_type": "execute_result",
          "data": {
            "text/plain": [
              "int"
            ]
          },
          "metadata": {},
          "execution_count": 10
        }
      ]
    },
    {
      "cell_type": "code",
      "source": [
        "5**4"
      ],
      "metadata": {
        "colab": {
          "base_uri": "https://localhost:8080/"
        },
        "id": "P_mStezCeySw",
        "outputId": "41d9250c-437e-46b8-ebd1-586df89ca0c9"
      },
      "execution_count": null,
      "outputs": [
        {
          "output_type": "execute_result",
          "data": {
            "text/plain": [
              "625"
            ]
          },
          "metadata": {},
          "execution_count": 11
        }
      ]
    },
    {
      "cell_type": "code",
      "source": [
        "price=50.5\n",
        "price #only show  output last time\n",
        "type(price)"
      ],
      "metadata": {
        "colab": {
          "base_uri": "https://localhost:8080/"
        },
        "id": "Q2w9lROhe5pX",
        "outputId": "e6816028-5d91-4f65-9b0e-b296d44f0f59"
      },
      "execution_count": null,
      "outputs": [
        {
          "output_type": "execute_result",
          "data": {
            "text/plain": [
              "float"
            ]
          },
          "metadata": {},
          "execution_count": 12
        }
      ]
    },
    {
      "cell_type": "code",
      "source": [
        "price=50\n",
        "price #only show  output last time\n",
        "type(price)"
      ],
      "metadata": {
        "colab": {
          "base_uri": "https://localhost:8080/"
        },
        "id": "DXhS6WM4fVXq",
        "outputId": "2d56a699-1e99-401b-c368-ae443d0993f8"
      },
      "execution_count": null,
      "outputs": [
        {
          "output_type": "execute_result",
          "data": {
            "text/plain": [
              "int"
            ]
          },
          "metadata": {},
          "execution_count": 13
        }
      ]
    },
    {
      "cell_type": "code",
      "source": [
        "price=50.5\n",
        "print(price) #to see  intermediate line's output use print() function\n",
        "type(price)"
      ],
      "metadata": {
        "colab": {
          "base_uri": "https://localhost:8080/"
        },
        "id": "MH6utbLxfXDZ",
        "outputId": "c24ab45e-538e-4e9d-9973-0d00629ff962"
      },
      "execution_count": null,
      "outputs": [
        {
          "output_type": "stream",
          "name": "stdout",
          "text": [
            "50.5\n"
          ]
        },
        {
          "output_type": "execute_result",
          "data": {
            "text/plain": [
              "float"
            ]
          },
          "metadata": {},
          "execution_count": 14
        }
      ]
    },
    {
      "cell_type": "code",
      "source": [
        "name=\"Pratik\"\n",
        "type(name)"
      ],
      "metadata": {
        "colab": {
          "base_uri": "https://localhost:8080/"
        },
        "id": "FySHY0Frfs7k",
        "outputId": "daf8b2b7-4932-41a0-b4bb-9c358a1108e8"
      },
      "execution_count": null,
      "outputs": [
        {
          "output_type": "execute_result",
          "data": {
            "text/plain": [
              "str"
            ]
          },
          "metadata": {},
          "execution_count": 16
        }
      ]
    },
    {
      "cell_type": "code",
      "source": [
        "dir(str)  #all method that can be applied on strings\n",
        "# ___dunder/magic method (double underscore method which python uses internally)"
      ],
      "metadata": {
        "colab": {
          "base_uri": "https://localhost:8080/"
        },
        "id": "Z9i7FPC-gFIa",
        "outputId": "2eb6758f-3127-4e5c-982a-74874273339c"
      },
      "execution_count": null,
      "outputs": [
        {
          "output_type": "execute_result",
          "data": {
            "text/plain": [
              "['__add__',\n",
              " '__class__',\n",
              " '__contains__',\n",
              " '__delattr__',\n",
              " '__dir__',\n",
              " '__doc__',\n",
              " '__eq__',\n",
              " '__format__',\n",
              " '__ge__',\n",
              " '__getattribute__',\n",
              " '__getitem__',\n",
              " '__getnewargs__',\n",
              " '__gt__',\n",
              " '__hash__',\n",
              " '__init__',\n",
              " '__init_subclass__',\n",
              " '__iter__',\n",
              " '__le__',\n",
              " '__len__',\n",
              " '__lt__',\n",
              " '__mod__',\n",
              " '__mul__',\n",
              " '__ne__',\n",
              " '__new__',\n",
              " '__reduce__',\n",
              " '__reduce_ex__',\n",
              " '__repr__',\n",
              " '__rmod__',\n",
              " '__rmul__',\n",
              " '__setattr__',\n",
              " '__sizeof__',\n",
              " '__str__',\n",
              " '__subclasshook__',\n",
              " 'capitalize',\n",
              " 'casefold',\n",
              " 'center',\n",
              " 'count',\n",
              " 'encode',\n",
              " 'endswith',\n",
              " 'expandtabs',\n",
              " 'find',\n",
              " 'format',\n",
              " 'format_map',\n",
              " 'index',\n",
              " 'isalnum',\n",
              " 'isalpha',\n",
              " 'isascii',\n",
              " 'isdecimal',\n",
              " 'isdigit',\n",
              " 'isidentifier',\n",
              " 'islower',\n",
              " 'isnumeric',\n",
              " 'isprintable',\n",
              " 'isspace',\n",
              " 'istitle',\n",
              " 'isupper',\n",
              " 'join',\n",
              " 'ljust',\n",
              " 'lower',\n",
              " 'lstrip',\n",
              " 'maketrans',\n",
              " 'partition',\n",
              " 'replace',\n",
              " 'rfind',\n",
              " 'rindex',\n",
              " 'rjust',\n",
              " 'rpartition',\n",
              " 'rsplit',\n",
              " 'rstrip',\n",
              " 'split',\n",
              " 'splitlines',\n",
              " 'startswith',\n",
              " 'strip',\n",
              " 'swapcase',\n",
              " 'title',\n",
              " 'translate',\n",
              " 'upper',\n",
              " 'zfill']"
            ]
          },
          "metadata": {},
          "execution_count": 17
        }
      ]
    },
    {
      "cell_type": "code",
      "source": [
        "str1=\"welocme TO SAILPOINT\"\n",
        "str1.capitalize() #convert only 1st letter in upper case and other in small"
      ],
      "metadata": {
        "colab": {
          "base_uri": "https://localhost:8080/",
          "height": 35
        },
        "id": "UH4N9h5Dhvqy",
        "outputId": "9cf33ae0-58ca-4248-e544-377210d5d50b"
      },
      "execution_count": null,
      "outputs": [
        {
          "output_type": "execute_result",
          "data": {
            "text/plain": [
              "'Welocme to sailpoint'"
            ],
            "application/vnd.google.colaboratory.intrinsic+json": {
              "type": "string"
            }
          },
          "metadata": {},
          "execution_count": 21
        }
      ]
    },
    {
      "cell_type": "code",
      "source": [
        "str1.upper()"
      ],
      "metadata": {
        "colab": {
          "base_uri": "https://localhost:8080/",
          "height": 35
        },
        "id": "gPW3pp4qiGxx",
        "outputId": "63f17178-20d8-4f2e-f2ac-e9b6e659da1b"
      },
      "execution_count": null,
      "outputs": [
        {
          "output_type": "execute_result",
          "data": {
            "text/plain": [
              "'WELOCME TO SAILPOINT'"
            ],
            "application/vnd.google.colaboratory.intrinsic+json": {
              "type": "string"
            }
          },
          "metadata": {},
          "execution_count": 22
        }
      ]
    },
    {
      "cell_type": "code",
      "source": [
        "str1.lower()"
      ],
      "metadata": {
        "colab": {
          "base_uri": "https://localhost:8080/",
          "height": 35
        },
        "id": "67Zk07zqieXZ",
        "outputId": "f659e99b-b03e-4b53-cf77-87b0ea3e634c"
      },
      "execution_count": null,
      "outputs": [
        {
          "output_type": "execute_result",
          "data": {
            "text/plain": [
              "'welocme to sailpoint'"
            ],
            "application/vnd.google.colaboratory.intrinsic+json": {
              "type": "string"
            }
          },
          "metadata": {},
          "execution_count": 23
        }
      ]
    },
    {
      "cell_type": "code",
      "source": [
        "str1.title()"
      ],
      "metadata": {
        "colab": {
          "base_uri": "https://localhost:8080/",
          "height": 35
        },
        "id": "n8ez5WBtih-J",
        "outputId": "1fa768cb-4b06-4994-9022-cb39870c3698"
      },
      "execution_count": null,
      "outputs": [
        {
          "output_type": "execute_result",
          "data": {
            "text/plain": [
              "'Welocme To Sailpoint'"
            ],
            "application/vnd.google.colaboratory.intrinsic+json": {
              "type": "string"
            }
          },
          "metadata": {},
          "execution_count": 24
        }
      ]
    },
    {
      "cell_type": "code",
      "source": [
        "food=\"bIRyAnI\"\n",
        "name=\"pRAtiK\"\n",
        "print(food.swapcase())  #chnage upper case to lower case ,lower to upper case\n",
        "name.swapcase()"
      ],
      "metadata": {
        "colab": {
          "base_uri": "https://localhost:8080/",
          "height": 53
        },
        "id": "iFucEYhOiknI",
        "outputId": "d785b061-cb5b-4929-d36e-50e43d51d49b"
      },
      "execution_count": null,
      "outputs": [
        {
          "output_type": "stream",
          "name": "stdout",
          "text": [
            "BirYaNi\n"
          ]
        },
        {
          "output_type": "execute_result",
          "data": {
            "text/plain": [
              "'PraTIk'"
            ],
            "application/vnd.google.colaboratory.intrinsic+json": {
              "type": "string"
            }
          },
          "metadata": {},
          "execution_count": 25
        }
      ]
    },
    {
      "cell_type": "code",
      "source": [
        "s1=\"My name is Pratik\"\n",
        "print(s1.split())  #list of string is created  (split the words)\n",
        "s2=\"Mumbai-Pune-Mumbai\"\n",
        "s2.split(\"-\")   # Use - as a seperator"
      ],
      "metadata": {
        "colab": {
          "base_uri": "https://localhost:8080/"
        },
        "id": "OwgWWc3ijhrB",
        "outputId": "25b217e0-030c-4202-c08c-d7e4c3b831b4"
      },
      "execution_count": null,
      "outputs": [
        {
          "output_type": "stream",
          "name": "stdout",
          "text": [
            "['My', 'name', 'is', 'Pratik']\n"
          ]
        },
        {
          "output_type": "execute_result",
          "data": {
            "text/plain": [
              "['Mumbai', 'Pune', 'Mumbai']"
            ]
          },
          "metadata": {},
          "execution_count": 26
        }
      ]
    },
    {
      "cell_type": "code",
      "source": [
        "mail=\"pratik@gmail.com\"\n",
        "mail.split(\"@\") # Use @ as a seperator"
      ],
      "metadata": {
        "colab": {
          "base_uri": "https://localhost:8080/"
        },
        "id": "A6UWYLUqkQ7h",
        "outputId": "b63166a8-d16f-4d17-eb26-c6f27991f0e6"
      },
      "execution_count": null,
      "outputs": [
        {
          "output_type": "execute_result",
          "data": {
            "text/plain": [
              "['pratik', 'gmail.com']"
            ]
          },
          "metadata": {},
          "execution_count": 29
        }
      ]
    },
    {
      "cell_type": "code",
      "source": [
        "s1.replace(\"Pratik\",\"Sanket\")\n"
      ],
      "metadata": {
        "colab": {
          "base_uri": "https://localhost:8080/",
          "height": 35
        },
        "id": "1NHFgMgclAvc",
        "outputId": "370aa4b7-14ec-4c6c-d493-858c5b0213b6"
      },
      "execution_count": null,
      "outputs": [
        {
          "output_type": "execute_result",
          "data": {
            "text/plain": [
              "'My name is Sanket'"
            ],
            "application/vnd.google.colaboratory.intrinsic+json": {
              "type": "string"
            }
          },
          "metadata": {},
          "execution_count": 30
        }
      ]
    },
    {
      "cell_type": "code",
      "source": [
        "# Single line comment and '' multi line comment"
      ],
      "metadata": {
        "id": "7FN0_fdslQao"
      },
      "execution_count": null,
      "outputs": []
    },
    {
      "cell_type": "code",
      "source": [
        "city=\"amravati\"\n",
        "city.count(\"a\")"
      ],
      "metadata": {
        "colab": {
          "base_uri": "https://localhost:8080/"
        },
        "id": "QZJkAsTSlABH",
        "outputId": "45701ba9-a428-48ab-e417-4f72a7ceea72"
      },
      "execution_count": null,
      "outputs": [
        {
          "output_type": "execute_result",
          "data": {
            "text/plain": [
              "3"
            ]
          },
          "metadata": {},
          "execution_count": 33
        }
      ]
    },
    {
      "cell_type": "code",
      "source": [
        "\"amravati\".count(\"a\")"
      ],
      "metadata": {
        "colab": {
          "base_uri": "https://localhost:8080/"
        },
        "id": "svNw_MxkmuXJ",
        "outputId": "ea1c61e6-b83b-40d3-d6ff-f29d8aa0d423"
      },
      "execution_count": null,
      "outputs": [
        {
          "output_type": "execute_result",
          "data": {
            "text/plain": [
              "3"
            ]
          },
          "metadata": {},
          "execution_count": 34
        }
      ]
    },
    {
      "cell_type": "code",
      "source": [
        "name=\"Pratik\"\n",
        "name*4"
      ],
      "metadata": {
        "colab": {
          "base_uri": "https://localhost:8080/",
          "height": 35
        },
        "id": "3fesjt2um1xU",
        "outputId": "48b417e3-d4ca-422c-b4bc-a794d1152ade"
      },
      "execution_count": null,
      "outputs": [
        {
          "output_type": "execute_result",
          "data": {
            "text/plain": [
              "'PratikPratikPratikPratik'"
            ],
            "application/vnd.google.colaboratory.intrinsic+json": {
              "type": "string"
            }
          },
          "metadata": {},
          "execution_count": 37
        }
      ]
    },
    {
      "cell_type": "code",
      "source": [
        "n1=5\n",
        "n1*5"
      ],
      "metadata": {
        "colab": {
          "base_uri": "https://localhost:8080/"
        },
        "id": "7HsT2Vs9nKpk",
        "outputId": "69aa3473-fdbe-4e88-cad8-e05bad3a5387"
      },
      "execution_count": null,
      "outputs": [
        {
          "output_type": "execute_result",
          "data": {
            "text/plain": [
              "25"
            ]
          },
          "metadata": {},
          "execution_count": 38
        }
      ]
    },
    {
      "cell_type": "code",
      "source": [
        "name=\"Pratik\"\n",
        "surname=\"Tarale\"\n",
        "name+\" \"+surname"
      ],
      "metadata": {
        "colab": {
          "base_uri": "https://localhost:8080/",
          "height": 35
        },
        "id": "R1tshhmYnOCt",
        "outputId": "1654dc33-bdbd-4507-a69f-c1b0c4ede1e1"
      },
      "execution_count": null,
      "outputs": [
        {
          "output_type": "execute_result",
          "data": {
            "text/plain": [
              "'Pratik Tarale'"
            ],
            "application/vnd.google.colaboratory.intrinsic+json": {
              "type": "string"
            }
          },
          "metadata": {},
          "execution_count": 40
        }
      ]
    },
    {
      "cell_type": "code",
      "source": [
        "# Conditional Statement \n",
        "a=30\n",
        "b=20\n",
        "if (a>b):\n",
        "  print(\"a is Greater\")\n",
        "else:\n",
        "  print(\"b is Greater\")"
      ],
      "metadata": {
        "id": "Ul38KjnLncUQ",
        "colab": {
          "base_uri": "https://localhost:8080/"
        },
        "outputId": "87635151-125a-4bf3-96e8-07f6d59a9488"
      },
      "execution_count": null,
      "outputs": [
        {
          "output_type": "stream",
          "name": "stdout",
          "text": [
            "a is Greater\n"
          ]
        }
      ]
    },
    {
      "cell_type": "code",
      "source": [
        "# Conditional Statement \n",
        "a=0\n",
        "b=20\n",
        "if (a>b):\n",
        "  print(\"a is Greater\")\n",
        "else:\n",
        "  print(\"b is Greater\")"
      ],
      "metadata": {
        "colab": {
          "base_uri": "https://localhost:8080/"
        },
        "id": "8xxBzbwWZO1S",
        "outputId": "8da662be-c432-49cf-faa5-041e08da9aec"
      },
      "execution_count": null,
      "outputs": [
        {
          "output_type": "stream",
          "name": "stdout",
          "text": [
            "b is Greater\n"
          ]
        }
      ]
    },
    {
      "cell_type": "code",
      "source": [
        "# Conditional Statement \n",
        "a=30\n",
        "b=20\n",
        "if (a>b):\n",
        "  print(a, \"is Greater\")\n",
        "else:\n",
        "  print(\"Greatest number is:\", b)"
      ],
      "metadata": {
        "colab": {
          "base_uri": "https://localhost:8080/"
        },
        "id": "TOI-pLYxZf8z",
        "outputId": "f8b12805-4da3-47b6-f4a7-c251732e092f"
      },
      "execution_count": null,
      "outputs": [
        {
          "output_type": "stream",
          "name": "stdout",
          "text": [
            "30 is Greater\n"
          ]
        }
      ]
    },
    {
      "cell_type": "code",
      "source": [
        "# Conditional Statement \n",
        "a=20\n",
        "b=50\n",
        "if (a>b):\n",
        "  print(a, \"is Greater\")\n",
        "else:\n",
        "  print(\"Greatest number is:\", b)"
      ],
      "metadata": {
        "colab": {
          "base_uri": "https://localhost:8080/"
        },
        "id": "jwzli1quatuD",
        "outputId": "c72de378-8b86-45a9-d8f5-00ebba0c2409"
      },
      "execution_count": null,
      "outputs": [
        {
          "output_type": "stream",
          "name": "stdout",
          "text": [
            "Greatest number is: 50\n"
          ]
        }
      ]
    },
    {
      "cell_type": "code",
      "source": [
        "salary=16000   #Salary 16000 for false\n",
        "if (salary>20000):\n",
        "  tax=0.26\n",
        "  print(\"Hello from true if\")\n",
        "else:\n",
        "   tax=0.20\n",
        "   print(\"Hello from false if/else\")\n",
        "print(\"Bye...Outside of if block\")\n",
        "net_sal=salary-tax*salary\n",
        "print(net_sal) \n"
      ],
      "metadata": {
        "colab": {
          "base_uri": "https://localhost:8080/"
        },
        "id": "xyo07RM4a2VI",
        "outputId": "e7a6d4f8-b772-45c0-82a3-6a09dde3ad10"
      },
      "execution_count": null,
      "outputs": [
        {
          "output_type": "stream",
          "name": "stdout",
          "text": [
            "Hello from false if/else\n",
            "Bye...Outside of if block\n",
            "12800.0\n"
          ]
        }
      ]
    },
    {
      "cell_type": "code",
      "source": [
        "salary=40000     #Salary 40000 for true\n",
        "if (salary>20000):\n",
        "  tax=0.26\n",
        "  print(\"Hello from true if\")\n",
        "else:\n",
        "   tax=0.20\n",
        "   print(\"Hello from false if/else\")\n",
        "print(\"Bye...Outside of if block\")\n",
        "net_sal=salary-tax*salary\n",
        "print(net_sal)"
      ],
      "metadata": {
        "colab": {
          "base_uri": "https://localhost:8080/"
        },
        "id": "7AJ53PkVcWpF",
        "outputId": "37582ae8-b9cd-4544-8f29-f218975efdc1"
      },
      "execution_count": null,
      "outputs": [
        {
          "output_type": "stream",
          "name": "stdout",
          "text": [
            "Hello from true if\n",
            "Bye...Outside of if block\n",
            "29600.0\n"
          ]
        }
      ]
    },
    {
      "cell_type": "code",
      "source": [
        "# For Loop\n",
        "\n",
        "for number in range (5,10): #Print number from 5 to 9. Defult increment is 1. #number is replase with any word\n",
        "  print(number)"
      ],
      "metadata": {
        "colab": {
          "base_uri": "https://localhost:8080/"
        },
        "id": "UzNNrGh1czd0",
        "outputId": "5301f1f6-51f3-4be1-c00a-20f9b6532ace"
      },
      "execution_count": null,
      "outputs": [
        {
          "output_type": "stream",
          "name": "stdout",
          "text": [
            "5\n",
            "6\n",
            "7\n",
            "8\n",
            "9\n"
          ]
        }
      ]
    },
    {
      "cell_type": "code",
      "source": [
        "# Print number 1 to 10 \n",
        "for i in range (1,11,1):  #range(start value, stop value, step value)  (step value= Increment/Decrement)\n",
        "   print(i)\n"
      ],
      "metadata": {
        "colab": {
          "base_uri": "https://localhost:8080/"
        },
        "id": "IQzWZZwFeBDB",
        "outputId": "1e328cd4-1c30-4ea3-d7ac-2eff6022459a"
      },
      "execution_count": null,
      "outputs": [
        {
          "output_type": "stream",
          "name": "stdout",
          "text": [
            "1\n",
            "2\n",
            "3\n",
            "4\n",
            "5\n",
            "6\n",
            "7\n",
            "8\n",
            "9\n",
            "10\n"
          ]
        }
      ]
    },
    {
      "cell_type": "code",
      "source": [
        "#Q1 print all odd number from 1 to 20\n",
        "for i in range (1,21,2):  #range(start value, stop value, step value)  (step value= Increment/Decrement)\n",
        "   print(i)"
      ],
      "metadata": {
        "colab": {
          "base_uri": "https://localhost:8080/"
        },
        "id": "YxCEg723eiUv",
        "outputId": "59a5e972-076c-49ec-b0eb-47390f7857d1"
      },
      "execution_count": null,
      "outputs": [
        {
          "output_type": "stream",
          "name": "stdout",
          "text": [
            "1\n",
            "3\n",
            "5\n",
            "7\n",
            "9\n",
            "11\n",
            "13\n",
            "15\n",
            "17\n",
            "19\n"
          ]
        }
      ]
    },
    {
      "cell_type": "code",
      "source": [
        "#Q2 print all Even number from 1 to 20\n",
        "for i in range (2,21,2):  #range(start value, stop value, step value)  (step value= Increment/Decrement)\n",
        "   print(i)"
      ],
      "metadata": {
        "colab": {
          "base_uri": "https://localhost:8080/"
        },
        "id": "IAdKW8cpg7Ni",
        "outputId": "fb7fa288-8daa-4972-95c0-a3afa98f406f"
      },
      "execution_count": null,
      "outputs": [
        {
          "output_type": "stream",
          "name": "stdout",
          "text": [
            "2\n",
            "4\n",
            "6\n",
            "8\n",
            "10\n",
            "12\n",
            "14\n",
            "16\n",
            "18\n",
            "20\n"
          ]
        }
      ]
    },
    {
      "cell_type": "code",
      "source": [
        "# \"break\"  statement terminates the loop when condition is satisfied\n",
        "\n",
        "for i in range(1,11):\n",
        "     if i==5:\n",
        "         #print(i)\n",
        "         break\n",
        "     else:\n",
        "         print(i)"
      ],
      "metadata": {
        "colab": {
          "base_uri": "https://localhost:8080/"
        },
        "id": "Lt-VEDY_hQhH",
        "outputId": "74d3f73c-a56d-47ee-84c3-6da1ddb47080"
      },
      "execution_count": null,
      "outputs": [
        {
          "output_type": "stream",
          "name": "stdout",
          "text": [
            "1\n",
            "2\n",
            "3\n",
            "4\n"
          ]
        }
      ]
    },
    {
      "cell_type": "code",
      "source": [
        "for num in range(10):  #0 to 9\n",
        "    print (num, num*num)   #num and its square"
      ],
      "metadata": {
        "colab": {
          "base_uri": "https://localhost:8080/"
        },
        "id": "6yhN7z_ejnDC",
        "outputId": "7a62d60c-763b-4a9a-b9b8-c49a769b2dd0"
      },
      "execution_count": null,
      "outputs": [
        {
          "output_type": "stream",
          "name": "stdout",
          "text": [
            "0 0\n",
            "1 1\n",
            "2 4\n",
            "3 9\n",
            "4 16\n",
            "5 25\n",
            "6 36\n",
            "7 49\n",
            "8 64\n",
            "9 81\n"
          ]
        }
      ]
    },
    {
      "cell_type": "code",
      "source": [
        "for num in range(10):  #0 to 9\n",
        "    print (num, num**num)   #num and its c"
      ],
      "metadata": {
        "colab": {
          "base_uri": "https://localhost:8080/"
        },
        "id": "G2F8qD0fk80B",
        "outputId": "9b4067af-ad44-47fc-a888-7026f6d646fb"
      },
      "execution_count": null,
      "outputs": [
        {
          "output_type": "stream",
          "name": "stdout",
          "text": [
            "0 1\n",
            "1 1\n",
            "2 4\n",
            "3 27\n",
            "4 256\n",
            "5 3125\n",
            "6 46656\n",
            "7 823543\n",
            "8 16777216\n",
            "9 387420489\n"
          ]
        }
      ]
    },
    {
      "cell_type": "code",
      "source": [
        "#range (start, stop, step)\n",
        "for i in range(1,30,5):\n",
        "  #print(i)\n",
        "  print(i,\"@\")"
      ],
      "metadata": {
        "colab": {
          "base_uri": "https://localhost:8080/"
        },
        "id": "bqOjjlPZlB4f",
        "outputId": "a6752731-0950-4d50-8450-fe0b8fc632ce"
      },
      "execution_count": null,
      "outputs": [
        {
          "output_type": "stream",
          "name": "stdout",
          "text": [
            "1 @\n",
            "6 @\n",
            "11 @\n",
            "16 @\n",
            "21 @\n",
            "26 @\n"
          ]
        }
      ]
    },
    {
      "cell_type": "code",
      "source": [
        "subject=\"science\"\n",
        "for letter in subject:\n",
        "    print (letter)"
      ],
      "metadata": {
        "colab": {
          "base_uri": "https://localhost:8080/"
        },
        "id": "oNPb2iWzmIwE",
        "outputId": "b3bcd756-870a-4a0f-9372-39e1f04beb6e"
      },
      "execution_count": null,
      "outputs": [
        {
          "output_type": "stream",
          "name": "stdout",
          "text": [
            "s\n",
            "c\n",
            "i\n",
            "e\n",
            "n\n",
            "c\n",
            "e\n"
          ]
        }
      ]
    },
    {
      "cell_type": "code",
      "source": [
        "#print name 3 times on first line, 4 time on 2nd, 5-3rd, 6-4th line Range(3,7)\n",
        "name=\"Pratik\"\n",
        "for value in range (3,7):\n",
        "  print(value*name)"
      ],
      "metadata": {
        "colab": {
          "base_uri": "https://localhost:8080/"
        },
        "id": "wvVdgEafmdKW",
        "outputId": "4b6779df-35f9-4fac-b3bf-84ec4fb100cf"
      },
      "execution_count": null,
      "outputs": [
        {
          "output_type": "stream",
          "name": "stdout",
          "text": [
            "PratikPratikPratik\n",
            "PratikPratikPratikPratik\n",
            "PratikPratikPratikPratikPratik\n",
            "PratikPratikPratikPratikPratikPratik\n"
          ]
        }
      ]
    },
    {
      "cell_type": "code",
      "source": [
        "# Print each letter of movie on separate line\n",
        "#chnage case of each letter (upper to small and small to upper) of movie on single line with sep \n",
        "\n",
        "movie=\"Drishyam\"\n",
        "for letter in movie:\n",
        "  print(letter)"
      ],
      "metadata": {
        "colab": {
          "base_uri": "https://localhost:8080/"
        },
        "id": "jF_5vnIWoR4D",
        "outputId": "b965ce5b-2b5f-4ebe-afc1-91513fcb0d27"
      },
      "execution_count": null,
      "outputs": [
        {
          "output_type": "stream",
          "name": "stdout",
          "text": [
            "D\n",
            "r\n",
            "i\n",
            "s\n",
            "h\n",
            "y\n",
            "a\n",
            "m\n"
          ]
        }
      ]
    },
    {
      "cell_type": "code",
      "source": [
        "#chnage case of each letter (upper to small and small to upper) of movie on single line with sep \n",
        "\n",
        "movie=\"Drishyam\"\n",
        "for letter in movie:\n",
        "  #print(letter)\n",
        "  print(letter.swapcase())"
      ],
      "metadata": {
        "colab": {
          "base_uri": "https://localhost:8080/"
        },
        "id": "bO0xuSPIpeJ9",
        "outputId": "124fac1b-4d37-42af-8e50-07f206395c69"
      },
      "execution_count": null,
      "outputs": [
        {
          "output_type": "stream",
          "name": "stdout",
          "text": [
            "d\n",
            "R\n",
            "I\n",
            "S\n",
            "H\n",
            "Y\n",
            "A\n",
            "M\n"
          ]
        }
      ]
    },
    {
      "cell_type": "code",
      "source": [
        "movie=\"Drishyam\"\n",
        "for letter in movie:\n",
        "  #print(letter)\n",
        "  #print(letter.swapcase())\n",
        "  print(letter.swapcase(), end=\" \")  #try upper(), lower(), \"-\", #"
      ],
      "metadata": {
        "colab": {
          "base_uri": "https://localhost:8080/"
        },
        "id": "yjK34qBPpvNX",
        "outputId": "b70e8a5e-5fd1-400e-d385-410ea0676a40"
      },
      "execution_count": null,
      "outputs": [
        {
          "output_type": "stream",
          "name": "stdout",
          "text": [
            "d R I S H Y A M "
          ]
        }
      ]
    },
    {
      "cell_type": "code",
      "source": [
        "movie=\"Drishyam\"\n",
        "for letter in movie:\n",
        "  print(letter, end=\" \")  #try upper(), lower(), \"-\", #"
      ],
      "metadata": {
        "colab": {
          "base_uri": "https://localhost:8080/"
        },
        "id": "fN4rbmzvqM94",
        "outputId": "6008189d-79bc-4243-feae-1f3b988b8a94"
      },
      "execution_count": null,
      "outputs": [
        {
          "output_type": "stream",
          "name": "stdout",
          "text": [
            "D r i s h y a m "
          ]
        }
      ]
    },
    {
      "cell_type": "code",
      "source": [
        "movie=\"Drishyam\"\n",
        "for letter in movie:\n",
        "  print(letter, end=\"~\")  #try upper(), lower(), \"-\", #"
      ],
      "metadata": {
        "colab": {
          "base_uri": "https://localhost:8080/"
        },
        "id": "YoFNL4hjqfKw",
        "outputId": "b07dd41d-c840-4e8a-9d84-8f16276db089"
      },
      "execution_count": null,
      "outputs": [
        {
          "output_type": "stream",
          "name": "stdout",
          "text": [
            "D~r~i~s~h~y~a~m~"
          ]
        }
      ]
    },
    {
      "cell_type": "code",
      "source": [
        "#print all even and odd number between given range using For Loop\n",
        "for i in range (1,11):\n",
        "  if i % 2 == 0:\n",
        "    print('Even Number:',i)\n",
        "  else:\n",
        "    print('Odd Number:',i)\n"
      ],
      "metadata": {
        "colab": {
          "base_uri": "https://localhost:8080/"
        },
        "id": "Kk78g1rCqlZz",
        "outputId": "040ff3a5-8e75-4f5c-8fb0-b285c14ef285"
      },
      "execution_count": null,
      "outputs": [
        {
          "output_type": "stream",
          "name": "stdout",
          "text": [
            "Odd Number: 1\n",
            "Even Number: 2\n",
            "Odd Number: 3\n",
            "Even Number: 4\n",
            "Odd Number: 5\n",
            "Even Number: 6\n",
            "Odd Number: 7\n",
            "Even Number: 8\n",
            "Odd Number: 9\n",
            "Even Number: 10\n"
          ]
        }
      ]
    },
    {
      "cell_type": "code",
      "source": [
        "#print First all even and odd number list between given range using For Loop\n",
        "print('Even Number:')\n",
        "for i in range (1,11):\n",
        "  if i % 2 == 0:\n",
        "    print(i)\n",
        "\n",
        "print('Odd Number:')\n",
        "for i in range (1,11):\n",
        "  if i%2!=0:\n",
        "    print(i)\n"
      ],
      "metadata": {
        "colab": {
          "base_uri": "https://localhost:8080/"
        },
        "id": "_Le64scQpZYn",
        "outputId": "cd1082eb-8989-4457-dd58-0ce77e6a03f5"
      },
      "execution_count": null,
      "outputs": [
        {
          "output_type": "stream",
          "name": "stdout",
          "text": [
            "Even Number:\n",
            "2\n",
            "4\n",
            "6\n",
            "8\n",
            "10\n",
            "Odd Number:\n",
            "1\n",
            "3\n",
            "5\n",
            "7\n",
            "9\n"
          ]
        }
      ]
    },
    {
      "cell_type": "code",
      "source": [
        "list8 =[1,2,3,4,5,6,7,8,9,10]\n",
        "even =[]\n",
        "odd =[]\n",
        "for i in list8:\n",
        "  if i %2 == 0:\n",
        "    even.append(i)\n",
        "  else:\n",
        "    odd.append(i)\n",
        "print(even)\n",
        "print(odd)"
      ],
      "metadata": {
        "colab": {
          "base_uri": "https://localhost:8080/"
        },
        "id": "0bcXOGEO1fBx",
        "outputId": "f3401daa-5dee-41fd-8bda-962eeffb2979"
      },
      "execution_count": 82,
      "outputs": [
        {
          "output_type": "stream",
          "name": "stdout",
          "text": [
            "[2, 4, 6, 8, 10]\n",
            "[1, 3, 5, 7, 9]\n"
          ]
        }
      ]
    },
    {
      "cell_type": "code",
      "source": [
        "status1=True\n",
        "type(status1)\n",
        "status2=False\n",
        "type(status2)"
      ],
      "metadata": {
        "colab": {
          "base_uri": "https://localhost:8080/"
        },
        "id": "udcSnW6gvkC-",
        "outputId": "cdf013f1-41f3-4cd7-f4fe-f8954bb8d823"
      },
      "execution_count": null,
      "outputs": [
        {
          "output_type": "execute_result",
          "data": {
            "text/plain": [
              "bool"
            ]
          },
          "metadata": {},
          "execution_count": 65
        }
      ]
    },
    {
      "cell_type": "code",
      "source": [
        "#Print each lettre 4 time with separator as space\n",
        "for letter in \"Data Scirnce\":\n",
        "  print (letter*4, end=\" \")\n"
      ],
      "metadata": {
        "colab": {
          "base_uri": "https://localhost:8080/"
        },
        "id": "TdDo9b-SvyTU",
        "outputId": "c8c27cde-418f-4853-a0e1-c1b898c8b68e"
      },
      "execution_count": null,
      "outputs": [
        {
          "output_type": "stream",
          "name": "stdout",
          "text": [
            "DDDD aaaa tttt aaaa      SSSS cccc iiii rrrr nnnn cccc eeee "
          ]
        }
      ]
    },
    {
      "cell_type": "code",
      "source": [
        "len(\"My NAME\")  #Space countad"
      ],
      "metadata": {
        "id": "oq-AavaVwePI",
        "colab": {
          "base_uri": "https://localhost:8080/"
        },
        "outputId": "98e39044-72a9-499d-fea6-117aca817783"
      },
      "execution_count": 3,
      "outputs": [
        {
          "output_type": "execute_result",
          "data": {
            "text/plain": [
              "7"
            ]
          },
          "metadata": {},
          "execution_count": 3
        }
      ]
    },
    {
      "cell_type": "code",
      "source": [
        "len(\"Pratik\")"
      ],
      "metadata": {
        "colab": {
          "base_uri": "https://localhost:8080/"
        },
        "id": "d2q7FAwj1Hd-",
        "outputId": "04918f2c-8fed-44e0-a410-b9135618d1bb"
      },
      "execution_count": 2,
      "outputs": [
        {
          "output_type": "execute_result",
          "data": {
            "text/plain": [
              "6"
            ]
          },
          "metadata": {},
          "execution_count": 2
        }
      ]
    },
    {
      "cell_type": "code",
      "source": [
        "# Data Structure : 1 List\n",
        "#List are mutable\n",
        "#Created  using square brackets []\n",
        " \n",
        "marks=[20,50,70,80,60,40,90]\n",
        "marks"
      ],
      "metadata": {
        "colab": {
          "base_uri": "https://localhost:8080/"
        },
        "id": "zJJ1Vn3E1Pqo",
        "outputId": "77e3b83f-5d12-49e2-df9d-f1e69ee19f08"
      },
      "execution_count": 9,
      "outputs": [
        {
          "output_type": "execute_result",
          "data": {
            "text/plain": [
              "[20, 50, 70, 80, 60, 40, 90]"
            ]
          },
          "metadata": {},
          "execution_count": 9
        }
      ]
    },
    {
      "cell_type": "code",
      "source": [
        "new_marks=sorted(marks)   #Created new sorted marks. orginal marks list remaning unchnaged\n",
        "new_marks"
      ],
      "metadata": {
        "id": "u9Gw3NACvcDP",
        "colab": {
          "base_uri": "https://localhost:8080/"
        },
        "outputId": "9a0ac957-10de-4a91-90d8-f8c0dac61476"
      },
      "execution_count": 10,
      "outputs": [
        {
          "output_type": "execute_result",
          "data": {
            "text/plain": [
              "[20, 40, 50, 60, 70, 80, 90]"
            ]
          },
          "metadata": {},
          "execution_count": 10
        }
      ]
    },
    {
      "cell_type": "code",
      "source": [
        "marks"
      ],
      "metadata": {
        "colab": {
          "base_uri": "https://localhost:8080/"
        },
        "id": "IroMokzQ3oHD",
        "outputId": "b8bb26d9-b1a0-48c1-8522-7766fb199352"
      },
      "execution_count": 11,
      "outputs": [
        {
          "output_type": "execute_result",
          "data": {
            "text/plain": [
              "[20, 50, 70, 80, 60, 40, 90]"
            ]
          },
          "metadata": {},
          "execution_count": 11
        }
      ]
    },
    {
      "cell_type": "code",
      "source": [
        "marks.sort()   #orgnial list is sorted list in ascending order by default\n",
        "marks"
      ],
      "metadata": {
        "colab": {
          "base_uri": "https://localhost:8080/"
        },
        "id": "yw6PYLh43sp7",
        "outputId": "6dfe743d-2cdf-46dc-ea27-a5321c530db6"
      },
      "execution_count": 12,
      "outputs": [
        {
          "output_type": "execute_result",
          "data": {
            "text/plain": [
              "[20, 40, 50, 60, 70, 80, 90]"
            ]
          },
          "metadata": {},
          "execution_count": 12
        }
      ]
    },
    {
      "cell_type": "code",
      "source": [
        "marks"
      ],
      "metadata": {
        "colab": {
          "base_uri": "https://localhost:8080/"
        },
        "id": "qo5uEDWy39tn",
        "outputId": "e89bf9e5-bd50-4883-dd7f-3a556acd6617"
      },
      "execution_count": 13,
      "outputs": [
        {
          "output_type": "execute_result",
          "data": {
            "text/plain": [
              "[20, 40, 50, 60, 70, 80, 90]"
            ]
          },
          "metadata": {},
          "execution_count": 13
        }
      ]
    },
    {
      "cell_type": "code",
      "source": [
        "marks.append(35)   #append is use for add the value in ending (last)\n",
        "marks"
      ],
      "metadata": {
        "colab": {
          "base_uri": "https://localhost:8080/"
        },
        "id": "SAtfzetv4E09",
        "outputId": "6e269a73-37b5-4055-f46a-cb068ec4ae95"
      },
      "execution_count": 14,
      "outputs": [
        {
          "output_type": "execute_result",
          "data": {
            "text/plain": [
              "[20, 40, 50, 60, 70, 80, 90, 35]"
            ]
          },
          "metadata": {},
          "execution_count": 14
        }
      ]
    },
    {
      "cell_type": "code",
      "source": [
        "marks.sort()\n",
        "marks"
      ],
      "metadata": {
        "colab": {
          "base_uri": "https://localhost:8080/"
        },
        "id": "0Hd98zyQ4VHq",
        "outputId": "c5eae053-4348-49a1-ce4f-6d942a712cb6"
      },
      "execution_count": 15,
      "outputs": [
        {
          "output_type": "execute_result",
          "data": {
            "text/plain": [
              "[20, 35, 40, 50, 60, 70, 80, 90]"
            ]
          },
          "metadata": {},
          "execution_count": 15
        }
      ]
    },
    {
      "cell_type": "code",
      "source": [
        "marks.reverse()   #orgnial list is sorted list in reverse order by default\n",
        "marks"
      ],
      "metadata": {
        "colab": {
          "base_uri": "https://localhost:8080/"
        },
        "id": "mvX_L7mN4Z4F",
        "outputId": "aa1a06c0-7a63-4924-f0fc-f26cc73b5908"
      },
      "execution_count": 17,
      "outputs": [
        {
          "output_type": "execute_result",
          "data": {
            "text/plain": [
              "[90, 80, 70, 60, 50, 40, 35, 20]"
            ]
          },
          "metadata": {},
          "execution_count": 17
        }
      ]
    },
    {
      "cell_type": "code",
      "source": [
        "marks2 =[43,12,67,89,54,23,14,56]"
      ],
      "metadata": {
        "id": "ajEooh9f4xo_"
      },
      "execution_count": 21,
      "outputs": []
    },
    {
      "cell_type": "code",
      "source": [
        "marks2.sort(reverse=True)   #sort in decending order when reverse = True\n",
        "marks2"
      ],
      "metadata": {
        "colab": {
          "base_uri": "https://localhost:8080/"
        },
        "id": "guedZhfJ5YJ8",
        "outputId": "cc75f24c-44ca-4072-a742-f5b9547c1979"
      },
      "execution_count": 22,
      "outputs": [
        {
          "output_type": "execute_result",
          "data": {
            "text/plain": [
              "[89, 67, 56, 54, 43, 23, 14, 12]"
            ]
          },
          "metadata": {},
          "execution_count": 22
        }
      ]
    },
    {
      "cell_type": "code",
      "source": [
        "marks2.sort(reverse=False)   #sort in Ascending order when reverse = True\n",
        "marks2"
      ],
      "metadata": {
        "colab": {
          "base_uri": "https://localhost:8080/"
        },
        "id": "2MH_sYY45zm0",
        "outputId": "9a7c3a0c-d347-4352-ec03-fab147ed2da5"
      },
      "execution_count": 23,
      "outputs": [
        {
          "output_type": "execute_result",
          "data": {
            "text/plain": [
              "[12, 14, 23, 43, 54, 56, 67, 89]"
            ]
          },
          "metadata": {},
          "execution_count": 23
        }
      ]
    },
    {
      "cell_type": "code",
      "source": [
        "marks"
      ],
      "metadata": {
        "colab": {
          "base_uri": "https://localhost:8080/"
        },
        "id": "D8tI3vZU5-XY",
        "outputId": "72feadb6-7031-4fa0-fa8a-4d85d2303dbc"
      },
      "execution_count": 24,
      "outputs": [
        {
          "output_type": "execute_result",
          "data": {
            "text/plain": [
              "[90, 80, 70, 60, 50, 40, 35, 20]"
            ]
          },
          "metadata": {},
          "execution_count": 24
        }
      ]
    },
    {
      "cell_type": "code",
      "source": [
        "88 in marks # Check 88 is presen in marks  list If Yes = True If No = False"
      ],
      "metadata": {
        "colab": {
          "base_uri": "https://localhost:8080/"
        },
        "id": "CLtrfJ2R6PjF",
        "outputId": "ab4edec9-18e0-4361-8571-0a169a65270e"
      },
      "execution_count": 25,
      "outputs": [
        {
          "output_type": "execute_result",
          "data": {
            "text/plain": [
              "False"
            ]
          },
          "metadata": {},
          "execution_count": 25
        }
      ]
    },
    {
      "cell_type": "code",
      "source": [
        "50 in marks"
      ],
      "metadata": {
        "colab": {
          "base_uri": "https://localhost:8080/"
        },
        "id": "SYowmCiy6XZ6",
        "outputId": "444bfd77-ca84-4e78-d089-38f88569692b"
      },
      "execution_count": 26,
      "outputs": [
        {
          "output_type": "execute_result",
          "data": {
            "text/plain": [
              "True"
            ]
          },
          "metadata": {},
          "execution_count": 26
        }
      ]
    },
    {
      "cell_type": "code",
      "source": [
        "list1=[10,20,30,40]\n",
        "list2=[50,60,70,80]\n",
        "list1 + list2  #concatention of two list "
      ],
      "metadata": {
        "colab": {
          "base_uri": "https://localhost:8080/"
        },
        "id": "Wc9J_eNi6mx2",
        "outputId": "e5612a47-5f2d-4279-e027-000a72f22282"
      },
      "execution_count": 27,
      "outputs": [
        {
          "output_type": "execute_result",
          "data": {
            "text/plain": [
              "[10, 20, 30, 40, 50, 60, 70, 80]"
            ]
          },
          "metadata": {},
          "execution_count": 27
        }
      ]
    },
    {
      "cell_type": "code",
      "source": [
        "(list1 + list2)*3  #repets 3 times"
      ],
      "metadata": {
        "colab": {
          "base_uri": "https://localhost:8080/"
        },
        "id": "mUjwXRC17TRi",
        "outputId": "fa7d848e-0911-44ad-95d2-2d7cd930bc9f"
      },
      "execution_count": 29,
      "outputs": [
        {
          "output_type": "execute_result",
          "data": {
            "text/plain": [
              "[10,\n",
              " 20,\n",
              " 30,\n",
              " 40,\n",
              " 50,\n",
              " 60,\n",
              " 70,\n",
              " 80,\n",
              " 10,\n",
              " 20,\n",
              " 30,\n",
              " 40,\n",
              " 50,\n",
              " 60,\n",
              " 70,\n",
              " 80,\n",
              " 10,\n",
              " 20,\n",
              " 30,\n",
              " 40,\n",
              " 50,\n",
              " 60,\n",
              " 70,\n",
              " 80]"
            ]
          },
          "metadata": {},
          "execution_count": 29
        }
      ]
    },
    {
      "cell_type": "code",
      "source": [
        "# List of string\n",
        "list3=[\"Mango\",\"Banana\",\"Orange\",\"Apple\",\"strawbeery\"]\n",
        "list3"
      ],
      "metadata": {
        "colab": {
          "base_uri": "https://localhost:8080/"
        },
        "id": "8AtO3qxF7wRF",
        "outputId": "2aba5a84-11ed-4028-ded7-b6471808c6ad"
      },
      "execution_count": 35,
      "outputs": [
        {
          "output_type": "execute_result",
          "data": {
            "text/plain": [
              "['Mango', 'Banana', 'Orange', 'Apple', 'strawbeery']"
            ]
          },
          "metadata": {},
          "execution_count": 35
        }
      ]
    },
    {
      "cell_type": "code",
      "source": [
        "#Display Fruits by changing case of all Fruits in Uppercase\n",
        "for fruit in list3:\n",
        "  print(fruit.upper())   "
      ],
      "metadata": {
        "colab": {
          "base_uri": "https://localhost:8080/"
        },
        "id": "GV9OM7MP8xBH",
        "outputId": "0d10e5aa-84c1-4183-f5e6-d46e34534573"
      },
      "execution_count": 39,
      "outputs": [
        {
          "output_type": "stream",
          "name": "stdout",
          "text": [
            "MANGO\n",
            "BANANA\n",
            "ORANGE\n",
            "APPLE\n",
            "STRAWBEERY\n"
          ]
        }
      ]
    },
    {
      "cell_type": "code",
      "source": [
        "for fruit in list3:\n",
        "  print(fruit.upper(), end=\" \")  #Display Fruits in one line"
      ],
      "metadata": {
        "colab": {
          "base_uri": "https://localhost:8080/"
        },
        "id": "nn9jyEd_9obE",
        "outputId": "f196e594-ab35-4c4f-9963-02dcaf94e0f9"
      },
      "execution_count": 41,
      "outputs": [
        {
          "output_type": "stream",
          "name": "stdout",
          "text": [
            "MANGO BANANA ORANGE APPLE STRAWBEERY "
          ]
        }
      ]
    },
    {
      "cell_type": "code",
      "source": [
        "for fruit in list3:\n",
        "  print(fruit.replace(\"a\",\"u\"), end=\"  \")  #a is repla e with u"
      ],
      "metadata": {
        "colab": {
          "base_uri": "https://localhost:8080/"
        },
        "id": "rXLdFklp9zvH",
        "outputId": "8dcc2f55-7ad3-4232-d8e3-ba59568f6c5d"
      },
      "execution_count": 42,
      "outputs": [
        {
          "output_type": "stream",
          "name": "stdout",
          "text": [
            "Mungo  Bununu  Orunge  Apple  struwbeery  "
          ]
        }
      ]
    },
    {
      "cell_type": "code",
      "source": [
        "list3"
      ],
      "metadata": {
        "colab": {
          "base_uri": "https://localhost:8080/"
        },
        "id": "w_gSawIF-iEP",
        "outputId": "5472e313-2fc3-4e62-880b-c72b22b8a297"
      },
      "execution_count": 43,
      "outputs": [
        {
          "output_type": "execute_result",
          "data": {
            "text/plain": [
              "['Mango', 'Banana', 'Orange', 'Apple', 'strawbeery']"
            ]
          },
          "metadata": {},
          "execution_count": 43
        }
      ]
    },
    {
      "cell_type": "code",
      "source": [
        "list3[0]"
      ],
      "metadata": {
        "colab": {
          "base_uri": "https://localhost:8080/",
          "height": 35
        },
        "id": "dNMXDuwZ-32l",
        "outputId": "52e135b5-d9af-4cb5-a2e9-d3c0039e81d6"
      },
      "execution_count": 44,
      "outputs": [
        {
          "output_type": "execute_result",
          "data": {
            "text/plain": [
              "'Mango'"
            ],
            "application/vnd.google.colaboratory.intrinsic+json": {
              "type": "string"
            }
          },
          "metadata": {},
          "execution_count": 44
        }
      ]
    },
    {
      "cell_type": "code",
      "source": [
        "list3[4]"
      ],
      "metadata": {
        "colab": {
          "base_uri": "https://localhost:8080/",
          "height": 35
        },
        "id": "_4PDWiaT_7X2",
        "outputId": "616cee2a-17a1-4972-b087-39296e3c1db6"
      },
      "execution_count": 45,
      "outputs": [
        {
          "output_type": "execute_result",
          "data": {
            "text/plain": [
              "'strawbeery'"
            ],
            "application/vnd.google.colaboratory.intrinsic+json": {
              "type": "string"
            }
          },
          "metadata": {},
          "execution_count": 45
        }
      ]
    },
    {
      "cell_type": "code",
      "source": [
        "# Slicing\n",
        "list3[0:4]   #0,1,2,3"
      ],
      "metadata": {
        "colab": {
          "base_uri": "https://localhost:8080/"
        },
        "id": "7GBlob8a_9pn",
        "outputId": "9c74a430-7b57-46e5-d62f-ca3288ba398e"
      },
      "execution_count": 46,
      "outputs": [
        {
          "output_type": "execute_result",
          "data": {
            "text/plain": [
              "['Mango', 'Banana', 'Orange', 'Apple']"
            ]
          },
          "metadata": {},
          "execution_count": 46
        }
      ]
    },
    {
      "cell_type": "code",
      "source": [
        "# From Banana to strawbeery i,e till end\n",
        "list3[1:]"
      ],
      "metadata": {
        "colab": {
          "base_uri": "https://localhost:8080/"
        },
        "id": "h5FpCtMrATUV",
        "outputId": "7f56887e-198e-4365-8142-ed1e8001537d"
      },
      "execution_count": 48,
      "outputs": [
        {
          "output_type": "execute_result",
          "data": {
            "text/plain": [
              "['Banana', 'Orange', 'Apple', 'strawbeery']"
            ]
          },
          "metadata": {},
          "execution_count": 48
        }
      ]
    },
    {
      "cell_type": "code",
      "source": [
        "# From beganing from Mango\n",
        "list3[::1]"
      ],
      "metadata": {
        "colab": {
          "base_uri": "https://localhost:8080/"
        },
        "id": "p5yJOC6VB6er",
        "outputId": "8041e12a-1ebb-482b-ff09-38aa26b0aaa0"
      },
      "execution_count": 51,
      "outputs": [
        {
          "output_type": "execute_result",
          "data": {
            "text/plain": [
              "['Mango', 'Banana', 'Orange', 'Apple', 'strawbeery']"
            ]
          },
          "metadata": {},
          "execution_count": 51
        }
      ]
    },
    {
      "cell_type": "code",
      "source": [
        "list3[-3]"
      ],
      "metadata": {
        "colab": {
          "base_uri": "https://localhost:8080/",
          "height": 35
        },
        "id": "XXihGPu2CmQR",
        "outputId": "bcb39770-5b5a-41f2-9c5a-eab382ee6990"
      },
      "execution_count": 52,
      "outputs": [
        {
          "output_type": "execute_result",
          "data": {
            "text/plain": [
              "'Orange'"
            ],
            "application/vnd.google.colaboratory.intrinsic+json": {
              "type": "string"
            }
          },
          "metadata": {},
          "execution_count": 52
        }
      ]
    },
    {
      "cell_type": "code",
      "source": [
        "# Start stop step in slicing\n",
        "print(list3)\n",
        "list3[::2]"
      ],
      "metadata": {
        "colab": {
          "base_uri": "https://localhost:8080/"
        },
        "id": "M3NOEMzOCvmU",
        "outputId": "23ca8439-55f5-40c9-e2d2-e3e823c59cbf"
      },
      "execution_count": 53,
      "outputs": [
        {
          "output_type": "stream",
          "name": "stdout",
          "text": [
            "['Mango', 'Banana', 'Orange', 'Apple', 'strawbeery']\n"
          ]
        },
        {
          "output_type": "execute_result",
          "data": {
            "text/plain": [
              "['Mango', 'Orange', 'strawbeery']"
            ]
          },
          "metadata": {},
          "execution_count": 53
        }
      ]
    },
    {
      "cell_type": "code",
      "source": [
        "print(list3, end=\" \")"
      ],
      "metadata": {
        "id": "IJmBMOK5hfDN",
        "colab": {
          "base_uri": "https://localhost:8080/"
        },
        "outputId": "d2c29038-f9d7-4d94-aec5-7da46aa39c85"
      },
      "execution_count": 56,
      "outputs": [
        {
          "output_type": "stream",
          "name": "stdout",
          "text": [
            "['Mango', 'Banana', 'Orange', 'Apple', 'strawbeery'] "
          ]
        }
      ]
    },
    {
      "cell_type": "code",
      "source": [
        "list3[::-1]"
      ],
      "metadata": {
        "colab": {
          "base_uri": "https://localhost:8080/"
        },
        "id": "gLsHO617Frq1",
        "outputId": "4dc79764-8a53-496a-a1ec-c0d0c165b89b"
      },
      "execution_count": 57,
      "outputs": [
        {
          "output_type": "execute_result",
          "data": {
            "text/plain": [
              "['strawbeery', 'Apple', 'Orange', 'Banana', 'Mango']"
            ]
          },
          "metadata": {},
          "execution_count": 57
        }
      ]
    },
    {
      "cell_type": "code",
      "source": [
        "list3[::-2]     #Step value is -2"
      ],
      "metadata": {
        "colab": {
          "base_uri": "https://localhost:8080/"
        },
        "id": "WOPFB_xjFxos",
        "outputId": "1d079362-16e1-491a-d043-c80a8b2162b7"
      },
      "execution_count": 58,
      "outputs": [
        {
          "output_type": "execute_result",
          "data": {
            "text/plain": [
              "['strawbeery', 'Orange', 'Mango']"
            ]
          },
          "metadata": {},
          "execution_count": 58
        }
      ]
    },
    {
      "cell_type": "code",
      "source": [
        " #use \"in\" keword to find out keyword\n",
        "\n",
        "'The' in 'netherland'"
      ],
      "metadata": {
        "colab": {
          "base_uri": "https://localhost:8080/"
        },
        "id": "m1YzPkBIF2O5",
        "outputId": "c05506b5-52e3-4efa-a63c-8d138438c36f"
      },
      "execution_count": 61,
      "outputs": [
        {
          "output_type": "execute_result",
          "data": {
            "text/plain": [
              "False"
            ]
          },
          "metadata": {},
          "execution_count": 61
        }
      ]
    },
    {
      "cell_type": "code",
      "source": [
        " #use \"in\" keword to find out keyword\n",
        "\n",
        "'the' in 'netherland'"
      ],
      "metadata": {
        "colab": {
          "base_uri": "https://localhost:8080/"
        },
        "id": "-SIZEW91GsBn",
        "outputId": "db0316a7-df0e-46d0-9e12-9970319b2d59"
      },
      "execution_count": 62,
      "outputs": [
        {
          "output_type": "execute_result",
          "data": {
            "text/plain": [
              "True"
            ]
          },
          "metadata": {},
          "execution_count": 62
        }
      ]
    },
    {
      "cell_type": "code",
      "source": [
        "list3"
      ],
      "metadata": {
        "colab": {
          "base_uri": "https://localhost:8080/"
        },
        "id": "K-8j9yUqG3K1",
        "outputId": "de1fbc57-dc5c-4c68-e267-d95ec235f3f8"
      },
      "execution_count": 63,
      "outputs": [
        {
          "output_type": "execute_result",
          "data": {
            "text/plain": [
              "['Mango', 'Banana', 'Orange', 'Apple', 'strawbeery']"
            ]
          },
          "metadata": {},
          "execution_count": 63
        }
      ]
    },
    {
      "cell_type": "code",
      "source": [
        "list3.append(\"Mulbeery\")\n",
        "list3"
      ],
      "metadata": {
        "colab": {
          "base_uri": "https://localhost:8080/"
        },
        "id": "bEIoJqqKGidP",
        "outputId": "baa061b5-217c-44d0-88cb-c0edbc4bd3f4"
      },
      "execution_count": 70,
      "outputs": [
        {
          "output_type": "execute_result",
          "data": {
            "text/plain": [
              "['Mango',\n",
              " 'Banana',\n",
              " 'Orange',\n",
              " 'Apple',\n",
              " 'strawbeery',\n",
              " 'Mulberry',\n",
              " 'Mulberry',\n",
              " 'Mulbeery']"
            ]
          },
          "metadata": {},
          "execution_count": 70
        }
      ]
    },
    {
      "cell_type": "code",
      "source": [
        "#Display fruit which contain substring as berry using for loop\n",
        "for fruit in list3:\n",
        "  if 'beery' in fruit:\n",
        "    print(fruit)"
      ],
      "metadata": {
        "colab": {
          "base_uri": "https://localhost:8080/"
        },
        "id": "vtFVP-TYHcQQ",
        "outputId": "5828e2fe-656d-49ee-9acb-a7dbfc9bf120"
      },
      "execution_count": 71,
      "outputs": [
        {
          "output_type": "stream",
          "name": "stdout",
          "text": [
            "strawbeery\n",
            "Mulbeery\n"
          ]
        }
      ]
    },
    {
      "cell_type": "code",
      "source": [
        "list3.remove(\"Mulberry\")\n",
        "list3"
      ],
      "metadata": {
        "colab": {
          "base_uri": "https://localhost:8080/"
        },
        "id": "t5Ac3iOHIibD",
        "outputId": "81ca1c1e-64df-47ac-afc2-560304a22f4f"
      },
      "execution_count": 72,
      "outputs": [
        {
          "output_type": "execute_result",
          "data": {
            "text/plain": [
              "['Mango', 'Banana', 'Orange', 'Apple', 'strawbeery', 'Mulberry', 'Mulbeery']"
            ]
          },
          "metadata": {},
          "execution_count": 72
        }
      ]
    },
    {
      "cell_type": "code",
      "source": [
        "list3.remove(\"Mulberry\")\n",
        "list3"
      ],
      "metadata": {
        "colab": {
          "base_uri": "https://localhost:8080/"
        },
        "id": "dAZ8EOz7I5Uc",
        "outputId": "d4f0cef0-a002-4e0d-ca8b-2a316efacd3a"
      },
      "execution_count": 73,
      "outputs": [
        {
          "output_type": "execute_result",
          "data": {
            "text/plain": [
              "['Mango', 'Banana', 'Orange', 'Apple', 'strawbeery', 'Mulbeery']"
            ]
          },
          "metadata": {},
          "execution_count": 73
        }
      ]
    },
    {
      "cell_type": "code",
      "source": [
        "list3.append(\"Black beeery\")\n",
        "list3 "
      ],
      "metadata": {
        "colab": {
          "base_uri": "https://localhost:8080/"
        },
        "id": "SGMkbD74I8lQ",
        "outputId": "2e7aa56f-a08c-4ed8-d3e4-974c1b091f6a"
      },
      "execution_count": 74,
      "outputs": [
        {
          "output_type": "execute_result",
          "data": {
            "text/plain": [
              "['Mango',\n",
              " 'Banana',\n",
              " 'Orange',\n",
              " 'Apple',\n",
              " 'strawbeery',\n",
              " 'Mulbeery',\n",
              " 'Black beeery']"
            ]
          },
          "metadata": {},
          "execution_count": 74
        }
      ]
    },
    {
      "cell_type": "code",
      "source": [
        "#Creat list4 of fruits fruits from list3 having only 'beery' as substring and store reaming fruits in list5\n",
        "list4=[]\n",
        "list5=[]\n",
        "for fruit in list3:\n",
        "  if 'beery'in fruit:\n",
        "    list4.append(fruit)\n",
        "  else:\n",
        "    list5.append(fruit)\n",
        "print(list4, end=\" \")\n",
        "print(list5, end=\" \")\n",
        "\n"
      ],
      "metadata": {
        "colab": {
          "base_uri": "https://localhost:8080/"
        },
        "id": "p5ilLDvTJIkj",
        "outputId": "51327e3e-19c2-4cea-b7df-8a7a140863b5"
      },
      "execution_count": 75,
      "outputs": [
        {
          "output_type": "stream",
          "name": "stdout",
          "text": [
            "['strawbeery', 'Mulbeery'] ['Mango', 'Banana', 'Orange', 'Apple', 'Black beeery'] "
          ]
        }
      ]
    },
    {
      "cell_type": "code",
      "source": [
        "#Print square of all number\n",
        "l1=[2,3,4,5,6,7]\n",
        "l2=[]\n",
        "for i in l1:\n",
        "  l2.append(i**2)\n",
        "print(l1, end=\" \")\n",
        "print(l2, end=\" \")\n"
      ],
      "metadata": {
        "colab": {
          "base_uri": "https://localhost:8080/"
        },
        "id": "tbBjlmw8KXCM",
        "outputId": "82c901c9-8036-41a8-9844-570798c8cd37"
      },
      "execution_count": 85,
      "outputs": [
        {
          "output_type": "stream",
          "name": "stdout",
          "text": [
            "[2, 3, 4, 5, 6, 7] [4, 9, 16, 25, 36, 49] "
          ]
        }
      ]
    },
    {
      "cell_type": "code",
      "source": [],
      "metadata": {
        "id": "XQYLU5QcNZDA"
      },
      "execution_count": null,
      "outputs": []
    },
    {
      "cell_type": "code",
      "source": [],
      "metadata": {
        "id": "MC7EBxYpNNLM"
      },
      "execution_count": null,
      "outputs": []
    },
    {
      "cell_type": "code",
      "source": [],
      "metadata": {
        "id": "iral3mQVM3FU"
      },
      "execution_count": null,
      "outputs": []
    },
    {
      "cell_type": "code",
      "source": [],
      "metadata": {
        "id": "PhrwSKDDIJEq"
      },
      "execution_count": null,
      "outputs": []
    },
    {
      "cell_type": "code",
      "source": [],
      "metadata": {
        "id": "ySdmT2FvIAb6"
      },
      "execution_count": null,
      "outputs": []
    },
    {
      "cell_type": "code",
      "source": [],
      "metadata": {
        "id": "MA2RMeBOHLJB"
      },
      "execution_count": null,
      "outputs": []
    },
    {
      "cell_type": "code",
      "source": [],
      "metadata": {
        "id": "mDpPC8e4HI3s"
      },
      "execution_count": null,
      "outputs": []
    },
    {
      "cell_type": "code",
      "source": [],
      "metadata": {
        "id": "lD9xRXWnGbRL"
      },
      "execution_count": null,
      "outputs": []
    }
  ]
}